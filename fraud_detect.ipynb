{
 "cells": [
  {
   "cell_type": "code",
   "execution_count": 665,
   "metadata": {},
   "outputs": [],
   "source": [
    "import pandas as pd\n",
    "import numpy as np\n",
    "import matplotlib.pyplot as plt\n",
    "import seaborn as sns\n",
    "plt.style.use('seaborn-darkgrid')\n",
    "import warnings\n",
    "warnings.filterwarnings('ignore')\n",
    "import sklearn as sk\n",
    "%matplotlib inline"
   ]
  },
  {
   "cell_type": "code",
   "execution_count": 666,
   "metadata": {
    "collapsed": true
   },
   "outputs": [],
   "source": [
    "dataset_train = pd.read_csv ('train.csv')\n",
    "dataset_test = pd.read_csv('test.csv')"
   ]
  },
  {
   "cell_type": "code",
   "execution_count": 667,
   "metadata": {},
   "outputs": [
    {
     "data": {
      "text/html": [
       "<div>\n",
       "<style scoped>\n",
       "    .dataframe tbody tr th:only-of-type {\n",
       "        vertical-align: middle;\n",
       "    }\n",
       "\n",
       "    .dataframe tbody tr th {\n",
       "        vertical-align: top;\n",
       "    }\n",
       "\n",
       "    .dataframe thead th {\n",
       "        text-align: right;\n",
       "    }\n",
       "</style>\n",
       "<table border=\"1\" class=\"dataframe\">\n",
       "  <thead>\n",
       "    <tr style=\"text-align: right;\">\n",
       "      <th></th>\n",
       "      <th>id</th>\n",
       "      <th>transaction time</th>\n",
       "      <th>current bank amount</th>\n",
       "      <th>last bank amount</th>\n",
       "      <th>time taken (seconds)</th>\n",
       "      <th>most recent bank amount</th>\n",
       "      <th>account type</th>\n",
       "      <th>marital_status</th>\n",
       "      <th>age</th>\n",
       "      <th>occupation</th>\n",
       "      <th>credit card type</th>\n",
       "      <th>account source verification</th>\n",
       "      <th>transaction source method</th>\n",
       "      <th>account destination verification</th>\n",
       "      <th>fradulent</th>\n",
       "    </tr>\n",
       "  </thead>\n",
       "  <tbody>\n",
       "    <tr>\n",
       "      <th>0</th>\n",
       "      <td>acus0</td>\n",
       "      <td>2016-10-05T01:44:58</td>\n",
       "      <td>43671</td>\n",
       "      <td>1151263</td>\n",
       "      <td>2299</td>\n",
       "      <td>348764</td>\n",
       "      <td>saving</td>\n",
       "      <td>married</td>\n",
       "      <td>46</td>\n",
       "      <td>musician</td>\n",
       "      <td>master</td>\n",
       "      <td>True</td>\n",
       "      <td>False</td>\n",
       "      <td>True</td>\n",
       "      <td>0</td>\n",
       "    </tr>\n",
       "    <tr>\n",
       "      <th>1</th>\n",
       "      <td>acus1</td>\n",
       "      <td>2015-01-14T15:05:07</td>\n",
       "      <td>7442</td>\n",
       "      <td>1062843</td>\n",
       "      <td>4553</td>\n",
       "      <td>225114</td>\n",
       "      <td>current</td>\n",
       "      <td>single</td>\n",
       "      <td>64</td>\n",
       "      <td>accounting</td>\n",
       "      <td>master</td>\n",
       "      <td>True</td>\n",
       "      <td>False</td>\n",
       "      <td>False</td>\n",
       "      <td>0</td>\n",
       "    </tr>\n",
       "    <tr>\n",
       "      <th>2</th>\n",
       "      <td>acus2</td>\n",
       "      <td>2016-10-28T13:44:58</td>\n",
       "      <td>40102</td>\n",
       "      <td>48042</td>\n",
       "      <td>1493</td>\n",
       "      <td>420486</td>\n",
       "      <td>current</td>\n",
       "      <td>married</td>\n",
       "      <td>41</td>\n",
       "      <td>farmer</td>\n",
       "      <td>master</td>\n",
       "      <td>True</td>\n",
       "      <td>True</td>\n",
       "      <td>True</td>\n",
       "      <td>0</td>\n",
       "    </tr>\n",
       "    <tr>\n",
       "      <th>3</th>\n",
       "      <td>acus3</td>\n",
       "      <td>2016-11-20T15:05:32</td>\n",
       "      <td>61024</td>\n",
       "      <td>1441746</td>\n",
       "      <td>544</td>\n",
       "      <td>239663</td>\n",
       "      <td>current</td>\n",
       "      <td>unknown</td>\n",
       "      <td>66</td>\n",
       "      <td>clergy</td>\n",
       "      <td>master</td>\n",
       "      <td>True</td>\n",
       "      <td>True</td>\n",
       "      <td>True</td>\n",
       "      <td>0</td>\n",
       "    </tr>\n",
       "    <tr>\n",
       "      <th>4</th>\n",
       "      <td>acus4</td>\n",
       "      <td>2015-09-01T16:11:57</td>\n",
       "      <td>22867</td>\n",
       "      <td>510656</td>\n",
       "      <td>4581</td>\n",
       "      <td>432337</td>\n",
       "      <td>current</td>\n",
       "      <td>married</td>\n",
       "      <td>78</td>\n",
       "      <td>accounting</td>\n",
       "      <td>verve</td>\n",
       "      <td>False</td>\n",
       "      <td>False</td>\n",
       "      <td>True</td>\n",
       "      <td>1</td>\n",
       "    </tr>\n",
       "    <tr>\n",
       "      <th>...</th>\n",
       "      <td>...</td>\n",
       "      <td>...</td>\n",
       "      <td>...</td>\n",
       "      <td>...</td>\n",
       "      <td>...</td>\n",
       "      <td>...</td>\n",
       "      <td>...</td>\n",
       "      <td>...</td>\n",
       "      <td>...</td>\n",
       "      <td>...</td>\n",
       "      <td>...</td>\n",
       "      <td>...</td>\n",
       "      <td>...</td>\n",
       "      <td>...</td>\n",
       "      <td>...</td>\n",
       "    </tr>\n",
       "    <tr>\n",
       "      <th>10488</th>\n",
       "      <td>bcus2988</td>\n",
       "      <td>2014-12-04T17:38:16</td>\n",
       "      <td>40426</td>\n",
       "      <td>1485894</td>\n",
       "      <td>737</td>\n",
       "      <td>288940</td>\n",
       "      <td>saving</td>\n",
       "      <td>married</td>\n",
       "      <td>74</td>\n",
       "      <td>banking</td>\n",
       "      <td>master</td>\n",
       "      <td>True</td>\n",
       "      <td>True</td>\n",
       "      <td>False</td>\n",
       "      <td>1</td>\n",
       "    </tr>\n",
       "    <tr>\n",
       "      <th>10489</th>\n",
       "      <td>bcus2989</td>\n",
       "      <td>2014-10-02T01:52:43</td>\n",
       "      <td>22276</td>\n",
       "      <td>361919</td>\n",
       "      <td>3125</td>\n",
       "      <td>292788</td>\n",
       "      <td>saving</td>\n",
       "      <td>married</td>\n",
       "      <td>71</td>\n",
       "      <td>doctor</td>\n",
       "      <td>master</td>\n",
       "      <td>True</td>\n",
       "      <td>True</td>\n",
       "      <td>False</td>\n",
       "      <td>0</td>\n",
       "    </tr>\n",
       "    <tr>\n",
       "      <th>10490</th>\n",
       "      <td>bcus2990</td>\n",
       "      <td>2015-07-03T04:33:19</td>\n",
       "      <td>40761</td>\n",
       "      <td>243638</td>\n",
       "      <td>2758</td>\n",
       "      <td>116256</td>\n",
       "      <td>current</td>\n",
       "      <td>unknown</td>\n",
       "      <td>59</td>\n",
       "      <td>banking</td>\n",
       "      <td>master</td>\n",
       "      <td>False</td>\n",
       "      <td>False</td>\n",
       "      <td>True</td>\n",
       "      <td>0</td>\n",
       "    </tr>\n",
       "    <tr>\n",
       "      <th>10491</th>\n",
       "      <td>bcus2991</td>\n",
       "      <td>2014-10-08T12:55:01</td>\n",
       "      <td>61575</td>\n",
       "      <td>534159</td>\n",
       "      <td>854</td>\n",
       "      <td>394715</td>\n",
       "      <td>current</td>\n",
       "      <td>single</td>\n",
       "      <td>42</td>\n",
       "      <td>banking</td>\n",
       "      <td>verve</td>\n",
       "      <td>True</td>\n",
       "      <td>True</td>\n",
       "      <td>False</td>\n",
       "      <td>0</td>\n",
       "    </tr>\n",
       "    <tr>\n",
       "      <th>10492</th>\n",
       "      <td>bcus2992</td>\n",
       "      <td>2014-06-19T20:46:32</td>\n",
       "      <td>41378</td>\n",
       "      <td>1336260</td>\n",
       "      <td>3041</td>\n",
       "      <td>77669</td>\n",
       "      <td>current</td>\n",
       "      <td>married</td>\n",
       "      <td>65</td>\n",
       "      <td>lawyer</td>\n",
       "      <td>verve</td>\n",
       "      <td>True</td>\n",
       "      <td>False</td>\n",
       "      <td>True</td>\n",
       "      <td>0</td>\n",
       "    </tr>\n",
       "  </tbody>\n",
       "</table>\n",
       "<p>10493 rows × 15 columns</p>\n",
       "</div>"
      ],
      "text/plain": [
       "             id     transaction time  current bank amount  last bank amount  \\\n",
       "0         acus0  2016-10-05T01:44:58                43671           1151263   \n",
       "1         acus1  2015-01-14T15:05:07                 7442           1062843   \n",
       "2         acus2  2016-10-28T13:44:58                40102             48042   \n",
       "3         acus3  2016-11-20T15:05:32                61024           1441746   \n",
       "4         acus4  2015-09-01T16:11:57                22867            510656   \n",
       "...         ...                  ...                  ...               ...   \n",
       "10488  bcus2988  2014-12-04T17:38:16                40426           1485894   \n",
       "10489  bcus2989  2014-10-02T01:52:43                22276            361919   \n",
       "10490  bcus2990  2015-07-03T04:33:19                40761            243638   \n",
       "10491  bcus2991  2014-10-08T12:55:01                61575            534159   \n",
       "10492  bcus2992  2014-06-19T20:46:32                41378           1336260   \n",
       "\n",
       "       time taken (seconds)  most recent bank amount account type  \\\n",
       "0                      2299                   348764       saving   \n",
       "1                      4553                   225114      current   \n",
       "2                      1493                   420486      current   \n",
       "3                       544                   239663      current   \n",
       "4                      4581                   432337      current   \n",
       "...                     ...                      ...          ...   \n",
       "10488                   737                   288940       saving   \n",
       "10489                  3125                   292788       saving   \n",
       "10490                  2758                   116256      current   \n",
       "10491                   854                   394715      current   \n",
       "10492                  3041                    77669      current   \n",
       "\n",
       "      marital_status  age  occupation credit card type  \\\n",
       "0            married   46    musician           master   \n",
       "1             single   64  accounting           master   \n",
       "2            married   41      farmer           master   \n",
       "3            unknown   66      clergy           master   \n",
       "4            married   78  accounting            verve   \n",
       "...              ...  ...         ...              ...   \n",
       "10488        married   74     banking           master   \n",
       "10489        married   71      doctor           master   \n",
       "10490        unknown   59     banking           master   \n",
       "10491         single   42     banking            verve   \n",
       "10492        married   65      lawyer            verve   \n",
       "\n",
       "       account source verification  transaction source method  \\\n",
       "0                             True                      False   \n",
       "1                             True                      False   \n",
       "2                             True                       True   \n",
       "3                             True                       True   \n",
       "4                            False                      False   \n",
       "...                            ...                        ...   \n",
       "10488                         True                       True   \n",
       "10489                         True                       True   \n",
       "10490                        False                      False   \n",
       "10491                         True                       True   \n",
       "10492                         True                      False   \n",
       "\n",
       "       account destination verification  fradulent  \n",
       "0                                  True          0  \n",
       "1                                 False          0  \n",
       "2                                  True          0  \n",
       "3                                  True          0  \n",
       "4                                  True          1  \n",
       "...                                 ...        ...  \n",
       "10488                             False          1  \n",
       "10489                             False          0  \n",
       "10490                              True          0  \n",
       "10491                             False          0  \n",
       "10492                              True          0  \n",
       "\n",
       "[10493 rows x 15 columns]"
      ]
     },
     "execution_count": 667,
     "metadata": {},
     "output_type": "execute_result"
    }
   ],
   "source": [
    "dataset_train"
   ]
  },
  {
   "cell_type": "code",
   "execution_count": 668,
   "metadata": {},
   "outputs": [
    {
     "data": {
      "text/html": [
       "<div>\n",
       "<style scoped>\n",
       "    .dataframe tbody tr th:only-of-type {\n",
       "        vertical-align: middle;\n",
       "    }\n",
       "\n",
       "    .dataframe tbody tr th {\n",
       "        vertical-align: top;\n",
       "    }\n",
       "\n",
       "    .dataframe thead th {\n",
       "        text-align: right;\n",
       "    }\n",
       "</style>\n",
       "<table border=\"1\" class=\"dataframe\">\n",
       "  <thead>\n",
       "    <tr style=\"text-align: right;\">\n",
       "      <th></th>\n",
       "      <th>id</th>\n",
       "      <th>transaction time</th>\n",
       "      <th>current bank amount</th>\n",
       "      <th>last bank amount</th>\n",
       "      <th>time taken (seconds)</th>\n",
       "      <th>most recent bank amount</th>\n",
       "      <th>account type</th>\n",
       "      <th>marital_status</th>\n",
       "      <th>age</th>\n",
       "      <th>occupation</th>\n",
       "      <th>credit card type</th>\n",
       "      <th>account source verification</th>\n",
       "      <th>transaction source method</th>\n",
       "      <th>account destination verification</th>\n",
       "    </tr>\n",
       "  </thead>\n",
       "  <tbody>\n",
       "    <tr>\n",
       "      <th>0</th>\n",
       "      <td>bcus2993</td>\n",
       "      <td>2016-06-28T12:51:43</td>\n",
       "      <td>88677</td>\n",
       "      <td>1059697</td>\n",
       "      <td>3033</td>\n",
       "      <td>29964</td>\n",
       "      <td>current</td>\n",
       "      <td>unknown</td>\n",
       "      <td>78</td>\n",
       "      <td>accounting</td>\n",
       "      <td>verve</td>\n",
       "      <td>True</td>\n",
       "      <td>True</td>\n",
       "      <td>False</td>\n",
       "    </tr>\n",
       "    <tr>\n",
       "      <th>1</th>\n",
       "      <td>bcus2994</td>\n",
       "      <td>2015-12-16T18:04:03</td>\n",
       "      <td>85737</td>\n",
       "      <td>434908</td>\n",
       "      <td>3025</td>\n",
       "      <td>354835</td>\n",
       "      <td>current</td>\n",
       "      <td>single</td>\n",
       "      <td>38</td>\n",
       "      <td>farmer</td>\n",
       "      <td>master</td>\n",
       "      <td>True</td>\n",
       "      <td>False</td>\n",
       "      <td>False</td>\n",
       "    </tr>\n",
       "    <tr>\n",
       "      <th>2</th>\n",
       "      <td>bcus2995</td>\n",
       "      <td>2016-10-15T04:06:55</td>\n",
       "      <td>14611</td>\n",
       "      <td>1287631</td>\n",
       "      <td>2414</td>\n",
       "      <td>395445</td>\n",
       "      <td>current</td>\n",
       "      <td>unknown</td>\n",
       "      <td>47</td>\n",
       "      <td>banking</td>\n",
       "      <td>master</td>\n",
       "      <td>True</td>\n",
       "      <td>False</td>\n",
       "      <td>False</td>\n",
       "    </tr>\n",
       "    <tr>\n",
       "      <th>3</th>\n",
       "      <td>bcus2996</td>\n",
       "      <td>2014-03-15T04:40:45</td>\n",
       "      <td>53130</td>\n",
       "      <td>61604</td>\n",
       "      <td>1228</td>\n",
       "      <td>204872</td>\n",
       "      <td>current</td>\n",
       "      <td>single</td>\n",
       "      <td>74</td>\n",
       "      <td>clergy</td>\n",
       "      <td>master</td>\n",
       "      <td>False</td>\n",
       "      <td>False</td>\n",
       "      <td>True</td>\n",
       "    </tr>\n",
       "    <tr>\n",
       "      <th>4</th>\n",
       "      <td>bcus2997</td>\n",
       "      <td>2015-05-25T05:09:33</td>\n",
       "      <td>20643</td>\n",
       "      <td>1143031</td>\n",
       "      <td>1031</td>\n",
       "      <td>207262</td>\n",
       "      <td>current</td>\n",
       "      <td>married</td>\n",
       "      <td>72</td>\n",
       "      <td>lawyer</td>\n",
       "      <td>master</td>\n",
       "      <td>True</td>\n",
       "      <td>False</td>\n",
       "      <td>True</td>\n",
       "    </tr>\n",
       "    <tr>\n",
       "      <th>...</th>\n",
       "      <td>...</td>\n",
       "      <td>...</td>\n",
       "      <td>...</td>\n",
       "      <td>...</td>\n",
       "      <td>...</td>\n",
       "      <td>...</td>\n",
       "      <td>...</td>\n",
       "      <td>...</td>\n",
       "      <td>...</td>\n",
       "      <td>...</td>\n",
       "      <td>...</td>\n",
       "      <td>...</td>\n",
       "      <td>...</td>\n",
       "      <td>...</td>\n",
       "    </tr>\n",
       "    <tr>\n",
       "      <th>4502</th>\n",
       "      <td>bcus7495</td>\n",
       "      <td>2016-07-17T17:32:10</td>\n",
       "      <td>4934</td>\n",
       "      <td>784300</td>\n",
       "      <td>1214</td>\n",
       "      <td>256774</td>\n",
       "      <td>current</td>\n",
       "      <td>married</td>\n",
       "      <td>37</td>\n",
       "      <td>lecturer</td>\n",
       "      <td>master</td>\n",
       "      <td>True</td>\n",
       "      <td>False</td>\n",
       "      <td>False</td>\n",
       "    </tr>\n",
       "    <tr>\n",
       "      <th>4503</th>\n",
       "      <td>bcus7496</td>\n",
       "      <td>2016-09-28T11:03:00</td>\n",
       "      <td>44428</td>\n",
       "      <td>1086507</td>\n",
       "      <td>2235</td>\n",
       "      <td>379427</td>\n",
       "      <td>current</td>\n",
       "      <td>married</td>\n",
       "      <td>38</td>\n",
       "      <td>accounting</td>\n",
       "      <td>master</td>\n",
       "      <td>True</td>\n",
       "      <td>False</td>\n",
       "      <td>False</td>\n",
       "    </tr>\n",
       "    <tr>\n",
       "      <th>4504</th>\n",
       "      <td>bcus7497</td>\n",
       "      <td>2015-08-22T22:19:44</td>\n",
       "      <td>22311</td>\n",
       "      <td>9605</td>\n",
       "      <td>3818</td>\n",
       "      <td>447750</td>\n",
       "      <td>current</td>\n",
       "      <td>married</td>\n",
       "      <td>66</td>\n",
       "      <td>clergy</td>\n",
       "      <td>master</td>\n",
       "      <td>True</td>\n",
       "      <td>True</td>\n",
       "      <td>False</td>\n",
       "    </tr>\n",
       "    <tr>\n",
       "      <th>4505</th>\n",
       "      <td>bcus7498</td>\n",
       "      <td>2014-10-21T13:21:38</td>\n",
       "      <td>89352</td>\n",
       "      <td>285156</td>\n",
       "      <td>3649</td>\n",
       "      <td>161042</td>\n",
       "      <td>current</td>\n",
       "      <td>unknown</td>\n",
       "      <td>68</td>\n",
       "      <td>musician</td>\n",
       "      <td>master</td>\n",
       "      <td>False</td>\n",
       "      <td>False</td>\n",
       "      <td>False</td>\n",
       "    </tr>\n",
       "    <tr>\n",
       "      <th>4506</th>\n",
       "      <td>bcus7499</td>\n",
       "      <td>2015-07-03T00:08:32</td>\n",
       "      <td>19013</td>\n",
       "      <td>109395</td>\n",
       "      <td>4541</td>\n",
       "      <td>290792</td>\n",
       "      <td>current</td>\n",
       "      <td>married</td>\n",
       "      <td>41</td>\n",
       "      <td>banking</td>\n",
       "      <td>verve</td>\n",
       "      <td>True</td>\n",
       "      <td>False</td>\n",
       "      <td>False</td>\n",
       "    </tr>\n",
       "  </tbody>\n",
       "</table>\n",
       "<p>4507 rows × 14 columns</p>\n",
       "</div>"
      ],
      "text/plain": [
       "            id     transaction time  current bank amount  last bank amount  \\\n",
       "0     bcus2993  2016-06-28T12:51:43                88677           1059697   \n",
       "1     bcus2994  2015-12-16T18:04:03                85737            434908   \n",
       "2     bcus2995  2016-10-15T04:06:55                14611           1287631   \n",
       "3     bcus2996  2014-03-15T04:40:45                53130             61604   \n",
       "4     bcus2997  2015-05-25T05:09:33                20643           1143031   \n",
       "...        ...                  ...                  ...               ...   \n",
       "4502  bcus7495  2016-07-17T17:32:10                 4934            784300   \n",
       "4503  bcus7496  2016-09-28T11:03:00                44428           1086507   \n",
       "4504  bcus7497  2015-08-22T22:19:44                22311              9605   \n",
       "4505  bcus7498  2014-10-21T13:21:38                89352            285156   \n",
       "4506  bcus7499  2015-07-03T00:08:32                19013            109395   \n",
       "\n",
       "      time taken (seconds)  most recent bank amount account type  \\\n",
       "0                     3033                    29964      current   \n",
       "1                     3025                   354835      current   \n",
       "2                     2414                   395445      current   \n",
       "3                     1228                   204872      current   \n",
       "4                     1031                   207262      current   \n",
       "...                    ...                      ...          ...   \n",
       "4502                  1214                   256774      current   \n",
       "4503                  2235                   379427      current   \n",
       "4504                  3818                   447750      current   \n",
       "4505                  3649                   161042      current   \n",
       "4506                  4541                   290792      current   \n",
       "\n",
       "     marital_status  age  occupation credit card type  \\\n",
       "0           unknown   78  accounting            verve   \n",
       "1            single   38      farmer           master   \n",
       "2           unknown   47     banking           master   \n",
       "3            single   74      clergy           master   \n",
       "4           married   72      lawyer           master   \n",
       "...             ...  ...         ...              ...   \n",
       "4502        married   37    lecturer           master   \n",
       "4503        married   38  accounting           master   \n",
       "4504        married   66      clergy           master   \n",
       "4505        unknown   68    musician           master   \n",
       "4506        married   41     banking            verve   \n",
       "\n",
       "      account source verification  transaction source method  \\\n",
       "0                            True                       True   \n",
       "1                            True                      False   \n",
       "2                            True                      False   \n",
       "3                           False                      False   \n",
       "4                            True                      False   \n",
       "...                           ...                        ...   \n",
       "4502                         True                      False   \n",
       "4503                         True                      False   \n",
       "4504                         True                       True   \n",
       "4505                        False                      False   \n",
       "4506                         True                      False   \n",
       "\n",
       "      account destination verification  \n",
       "0                                False  \n",
       "1                                False  \n",
       "2                                False  \n",
       "3                                 True  \n",
       "4                                 True  \n",
       "...                                ...  \n",
       "4502                             False  \n",
       "4503                             False  \n",
       "4504                             False  \n",
       "4505                             False  \n",
       "4506                             False  \n",
       "\n",
       "[4507 rows x 14 columns]"
      ]
     },
     "execution_count": 668,
     "metadata": {},
     "output_type": "execute_result"
    }
   ],
   "source": [
    "dataset_test"
   ]
  },
  {
   "cell_type": "code",
   "execution_count": 669,
   "metadata": {},
   "outputs": [
    {
     "data": {
      "text/plain": [
       "<matplotlib.axes._subplots.AxesSubplot at 0x10522d14898>"
      ]
     },
     "execution_count": 669,
     "metadata": {},
     "output_type": "execute_result"
    },
    {
     "data": {
      "image/png": "[encoded data removed]",
      "text/plain": [
       "<matplotlib.figure.Figure at 0x1052087f8d0>"
      ]
     },
     "metadata": {},
     "output_type": "display_data"
    }
   ],
   "source": [
    "sns.countplot(dataset_train['fradulent'])"
   ]
  },
  {
   "cell_type": "code",
   "execution_count": 670,
   "metadata": {},
   "outputs": [
    {
     "name": "stdout",
     "output_type": "stream",
     "text": [
      "<class 'pandas.core.frame.DataFrame'>\n",
      "RangeIndex: 10493 entries, 0 to 10492\n",
      "Data columns (total 15 columns):\n",
      "id                                  10493 non-null object\n",
      "transaction time                    10493 non-null object\n",
      "current bank amount                 10493 non-null int64\n",
      "last bank amount                    10493 non-null int64\n",
      "time taken (seconds)                10493 non-null int64\n",
      "most recent bank amount             10493 non-null int64\n",
      "account type                        10493 non-null object\n",
      "marital_status                      10493 non-null object\n",
      "age                                 10493 non-null int64\n",
      "occupation                          10493 non-null object\n",
      "credit card type                    10493 non-null object\n",
      "account source verification         10493 non-null bool\n",
      "transaction source method           10493 non-null bool\n",
      "account destination verification    10493 non-null bool\n",
      "fradulent                           10493 non-null int64\n",
      "dtypes: bool(3), int64(6), object(6)\n",
      "memory usage: 1014.6+ KB\n",
      "<class 'pandas.core.frame.DataFrame'>\n",
      "RangeIndex: 4507 entries, 0 to 4506\n",
      "Data columns (total 14 columns):\n",
      "id                                  4507 non-null object\n",
      "transaction time                    4507 non-null object\n",
      "current bank amount                 4507 non-null int64\n",
      "last bank amount                    4507 non-null int64\n",
      "time taken (seconds)                4507 non-null int64\n",
      "most recent bank amount             4507 non-null int64\n",
      "account type                        4507 non-null object\n",
      "marital_status                      4507 non-null object\n",
      "age                                 4507 non-null int64\n",
      "occupation                          4507 non-null object\n",
      "credit card type                    4507 non-null object\n",
      "account source verification         4507 non-null bool\n",
      "transaction source method           4507 non-null bool\n",
      "account destination verification    4507 non-null bool\n",
      "dtypes: bool(3), int64(5), object(6)\n",
      "memory usage: 400.6+ KB\n"
     ]
    }
   ],
   "source": [
    "dataset_train.info()\n",
    "dataset_test.info()"
   ]
  },
  {
   "cell_type": "code",
   "execution_count": 671,
   "metadata": {},
   "outputs": [
    {
     "data": {
      "text/plain": [
       "count    10493.000000\n",
       "mean         0.276661\n",
       "std          0.447369\n",
       "min          0.000000\n",
       "25%          0.000000\n",
       "50%          0.000000\n",
       "75%          1.000000\n",
       "max          1.000000\n",
       "Name: fradulent, dtype: float64"
      ]
     },
     "execution_count": 671,
     "metadata": {},
     "output_type": "execute_result"
    }
   ],
   "source": [
    "dataset_train['fradulent'].describe()"
   ]
  },
  {
   "cell_type": "code",
   "execution_count": null,
   "metadata": {
    "scrolled": false
   },
   "outputs": [],
   "source": []
  },
  {
   "cell_type": "code",
   "execution_count": 672,
   "metadata": {},
   "outputs": [
    {
     "name": "stdout",
     "output_type": "stream",
     "text": [
      "Skewness: 0.998648\n",
      "Kurtosis: -1.002892\n"
     ]
    }
   ],
   "source": [
    "#skewness and kurtosis\n",
    "print(\"Skewness: %f\" % dataset_train['fradulent'].skew())\n",
    "print(\"Kurtosis: %f\" % dataset_train['fradulent'].kurt())"
   ]
  },
  {
   "cell_type": "code",
   "execution_count": null,
   "metadata": {
    "collapsed": true
   },
   "outputs": [],
   "source": []
  },
  {
   "cell_type": "markdown",
   "metadata": {},
   "source": [
    "# correlation matrix"
   ]
  },
  {
   "cell_type": "code",
   "execution_count": 673,
   "metadata": {},
   "outputs": [
    {
     "data": {
      "text/plain": [
       "<matplotlib.axes._subplots.AxesSubplot at 0x10522ad5c88>"
      ]
     },
     "execution_count": 673,
     "metadata": {},
     "output_type": "execute_result"
    },
    {
     "data": {
      "image/png": "[encoded data removed]",
      "text/plain": [
       "<matplotlib.figure.Figure at 0x1051e969a58>"
      ]
     },
     "metadata": {},
     "output_type": "display_data"
    }
   ],
   "source": [
    "corrmat = dataset_train.corr()\n",
    "f, ax = plt.subplots (figsize=(12,9))\n",
    "sns.heatmap(corrmat,vmax=.8, square= True)"
   ]
  },
  {
   "cell_type": "code",
   "execution_count": 674,
   "metadata": {},
   "outputs": [
    {
     "data": {
      "text/plain": [
       "<function matplotlib.pyplot.show>"
      ]
     },
     "execution_count": 674,
     "metadata": {},
     "output_type": "execute_result"
    },
    {
     "data": {
      "image/png": "[encoded data removed]",
      "text/plain": [
       "<matplotlib.figure.Figure at 0x10522b179b0>"
      ]
     },
     "metadata": {},
     "output_type": "display_data"
    }
   ],
   "source": [
    "k=5 #number of variables for heatmap\n",
    "cols=corrmat.nlargest(k, 'fradulent')['fradulent'].index\n",
    "cm=np.corrcoef(dataset_train[cols].values.T)\n",
    "sns.set(font_scale=1.25)\n",
    "hm=sns.heatmap(cm,cbar=True,annot=True,square=True,fmt='.2f',annot_kws={'size': 10}, yticklabels=cols.values, xticklabels=cols.values)\n",
    "\n",
    "\n",
    "plt.show"
   ]
  },
  {
   "cell_type": "code",
   "execution_count": 675,
   "metadata": {},
   "outputs": [
    {
     "data": {
      "text/plain": [
       "Index(['id', 'transaction time', 'current bank amount', 'last bank amount',\n",
       "       'time taken (seconds)', 'most recent bank amount', 'account type',\n",
       "       'marital_status', 'age', 'occupation', 'credit card type',\n",
       "       'account source verification', 'transaction source method',\n",
       "       'account destination verification'],\n",
       "      dtype='object')"
      ]
     },
     "execution_count": 675,
     "metadata": {},
     "output_type": "execute_result"
    }
   ],
   "source": [
    "dataset_test.columns"
   ]
  },
  {
   "cell_type": "code",
   "execution_count": 676,
   "metadata": {},
   "outputs": [
    {
     "data": {
      "text/plain": [
       "Index(['id', 'transaction time', 'current bank amount', 'last bank amount',\n",
       "       'time taken (seconds)', 'most recent bank amount', 'account type',\n",
       "       'marital_status', 'age', 'occupation', 'credit card type',\n",
       "       'account source verification', 'transaction source method',\n",
       "       'account destination verification', 'fradulent'],\n",
       "      dtype='object')"
      ]
     },
     "execution_count": 676,
     "metadata": {},
     "output_type": "execute_result"
    }
   ],
   "source": [
    "dataset_train.columns"
   ]
  },
  {
   "cell_type": "markdown",
   "metadata": {},
   "source": [
    "# DEALING WITH integers"
   ]
  },
  {
   "cell_type": "code",
   "execution_count": 677,
   "metadata": {},
   "outputs": [
    {
     "data": {
      "text/plain": [
       "<function matplotlib.pyplot.show>"
      ]
     },
     "execution_count": 677,
     "metadata": {},
     "output_type": "execute_result"
    },
    {
     "data": {
      "image/png": "[encoded data removed]",
      "text/plain": [
       "<matplotlib.figure.Figure at 0x1051ffe1d30>"
      ]
     },
     "metadata": {},
     "output_type": "display_data"
    }
   ],
   "source": [
    "plt.boxplot(dataset_train['current bank amount'])\n",
    "#ataset_train['current bank amount'][dataset_train['urrent bank amount'\n",
    "plt.show"
   ]
  },
  {
   "cell_type": "code",
   "execution_count": 678,
   "metadata": {},
   "outputs": [
    {
     "data": {
      "text/plain": [
       "<function matplotlib.pyplot.show>"
      ]
     },
     "execution_count": 678,
     "metadata": {},
     "output_type": "execute_result"
    },
    {
     "data": {
      "image/png": "[encoded data removed]",
      "text/plain": [
       "<matplotlib.figure.Figure at 0x105209906d8>"
      ]
     },
     "metadata": {},
     "output_type": "display_data"
    }
   ],
   "source": [
    "plt.boxplot(dataset_test['current bank amount'])\n",
    "#ataset_train['current bank amount'][dataset_train['urrent bank amount'\n",
    "plt.show"
   ]
  },
  {
   "cell_type": "code",
   "execution_count": 679,
   "metadata": {},
   "outputs": [
    {
     "data": {
      "text/plain": [
       "<function matplotlib.pyplot.show>"
      ]
     },
     "execution_count": 679,
     "metadata": {},
     "output_type": "execute_result"
    },
    {
     "data": {
      "image/png": "[encoded data removed]",
      "text/plain": [
       "<matplotlib.figure.Figure at 0x10520ffcbe0>"
      ]
     },
     "metadata": {},
     "output_type": "display_data"
    }
   ],
   "source": [
    "plt.boxplot(dataset_test['last bank amount'])\n",
    "dataset_test['last bank amount'][dataset_test['last bank amount']>1400000 ]=1400000\n",
    "plt.show"
   ]
  },
  {
   "cell_type": "code",
   "execution_count": 680,
   "metadata": {},
   "outputs": [
    {
     "data": {
      "text/plain": [
       "<function matplotlib.pyplot.show>"
      ]
     },
     "execution_count": 680,
     "metadata": {},
     "output_type": "execute_result"
    },
    {
     "data": {
      "image/png": "[encoded data removed]",
      "text/plain": [
       "<matplotlib.figure.Figure at 0x1052272c748>"
      ]
     },
     "metadata": {},
     "output_type": "display_data"
    }
   ],
   "source": [
    "plt.boxplot(dataset_train['last bank amount'])\n",
    "dataset_train['last bank amount'][dataset_train['last bank amount']>1400000 ]=1400000\n",
    "plt.show"
   ]
  },
  {
   "cell_type": "code",
   "execution_count": 681,
   "metadata": {},
   "outputs": [
    {
     "data": {
      "text/plain": [
       "<function matplotlib.pyplot.show>"
      ]
     },
     "execution_count": 681,
     "metadata": {},
     "output_type": "execute_result"
    },
    {
     "data": {
      "image/png": "[encoded data removed]",
      "text/plain": [
       "<matplotlib.figure.Figure at 0x105227f4908>"
      ]
     },
     "metadata": {},
     "output_type": "display_data"
    }
   ],
   "source": [
    "plt.boxplot(dataset_train['most recent bank amount'])\n",
    "plt.show"
   ]
  },
  {
   "cell_type": "code",
   "execution_count": 682,
   "metadata": {},
   "outputs": [
    {
     "data": {
      "text/plain": [
       "<function matplotlib.pyplot.show>"
      ]
     },
     "execution_count": 682,
     "metadata": {},
     "output_type": "execute_result"
    },
    {
     "data": {
      "image/png": "[encoded data removed]",
      "text/plain": [
       "<matplotlib.figure.Figure at 0x10520fd2a20>"
      ]
     },
     "metadata": {},
     "output_type": "display_data"
    }
   ],
   "source": [
    "plt.boxplot(dataset_test['most recent bank amount'])\n",
    "plt.show"
   ]
  },
  {
   "cell_type": "code",
   "execution_count": 683,
   "metadata": {},
   "outputs": [
    {
     "data": {
      "text/plain": [
       "0        2299\n",
       "1        4553\n",
       "2        1493\n",
       "3         544\n",
       "4        4581\n",
       "         ... \n",
       "10488     737\n",
       "10489    3125\n",
       "10490    2758\n",
       "10491     854\n",
       "10492    3041\n",
       "Name: time taken (seconds), Length: 10493, dtype: int64"
      ]
     },
     "execution_count": 683,
     "metadata": {},
     "output_type": "execute_result"
    }
   ],
   "source": [
    "dataset_train['time taken (seconds)']"
   ]
  },
  {
   "cell_type": "code",
   "execution_count": 684,
   "metadata": {},
   "outputs": [],
   "source": [
    "dataset_test['time taken (days)'] = dataset_test['time taken (seconds)']/86400\n",
    "dataset_test.drop('time taken (seconds)', axis = 1, inplace = True)"
   ]
  },
  {
   "cell_type": "code",
   "execution_count": 685,
   "metadata": {
    "collapsed": true
   },
   "outputs": [],
   "source": [
    "dataset_train['time taken (days)'] = dataset_train['time taken (seconds)']/86400\n",
    "dataset_train.drop('time taken (seconds)', axis = 1, inplace = True)"
   ]
  },
  {
   "cell_type": "code",
   "execution_count": 686,
   "metadata": {},
   "outputs": [
    {
     "data": {
      "text/plain": [
       "count    10493.000000\n",
       "mean         0.029035\n",
       "std          0.016584\n",
       "min          0.000046\n",
       "25%          0.014838\n",
       "50%          0.029167\n",
       "75%          0.042940\n",
       "max          0.057859\n",
       "Name: time taken (days), dtype: float64"
      ]
     },
     "execution_count": 686,
     "metadata": {},
     "output_type": "execute_result"
    }
   ],
   "source": [
    "dataset_train['time taken (days)'].describe()"
   ]
  },
  {
   "cell_type": "code",
   "execution_count": 687,
   "metadata": {},
   "outputs": [
    {
     "data": {
      "text/plain": [
       "<function matplotlib.pyplot.show>"
      ]
     },
     "execution_count": 687,
     "metadata": {},
     "output_type": "execute_result"
    },
    {
     "data": {
      "image/png": "[encoded data removed]",
      "text/plain": [
       "<matplotlib.figure.Figure at 0x10522d6b240>"
      ]
     },
     "metadata": {},
     "output_type": "display_data"
    }
   ],
   "source": [
    "plt.boxplot(dataset_test['time taken (days)'])\n",
    "plt.show"
   ]
  },
  {
   "cell_type": "code",
   "execution_count": 688,
   "metadata": {},
   "outputs": [
    {
     "data": {
      "text/plain": [
       "<function matplotlib.pyplot.show>"
      ]
     },
     "execution_count": 688,
     "metadata": {},
     "output_type": "execute_result"
    },
    {
     "data": {
      "image/png": "[encoded data removed]",
      "text/plain": [
       "<matplotlib.figure.Figure at 0x10522cbecc0>"
      ]
     },
     "metadata": {},
     "output_type": "display_data"
    }
   ],
   "source": [
    "plt.boxplot(dataset_train['time taken (days)'])\n",
    "plt.show"
   ]
  },
  {
   "cell_type": "code",
   "execution_count": 689,
   "metadata": {},
   "outputs": [
    {
     "data": {
      "text/plain": [
       "<function matplotlib.pyplot.show>"
      ]
     },
     "execution_count": 689,
     "metadata": {},
     "output_type": "execute_result"
    },
    {
     "data": {
      "image/png": "[encoded data removed]",
      "text/plain": [
       "<matplotlib.figure.Figure at 0x105231f4a20>"
      ]
     },
     "metadata": {},
     "output_type": "display_data"
    }
   ],
   "source": [
    "plt.boxplot(dataset_train['age'])\n",
    "plt.show"
   ]
  },
  {
   "cell_type": "code",
   "execution_count": 690,
   "metadata": {},
   "outputs": [
    {
     "data": {
      "text/plain": [
       "<function matplotlib.pyplot.show>"
      ]
     },
     "execution_count": 690,
     "metadata": {},
     "output_type": "execute_result"
    },
    {
     "data": {
      "image/png": "[encoded data removed]",
      "text/plain": [
       "<matplotlib.figure.Figure at 0x10524ca7860>"
      ]
     },
     "metadata": {},
     "output_type": "display_data"
    }
   ],
   "source": [
    "plt.boxplot(dataset_test['age'])\n",
    "plt.show"
   ]
  },
  {
   "cell_type": "code",
   "execution_count": null,
   "metadata": {
    "collapsed": true
   },
   "outputs": [],
   "source": []
  },
  {
   "cell_type": "code",
   "execution_count": 691,
   "metadata": {
    "collapsed": true
   },
   "outputs": [],
   "source": [
    "import datetime"
   ]
  },
  {
   "cell_type": "code",
   "execution_count": 692,
   "metadata": {
    "collapsed": true
   },
   "outputs": [],
   "source": [
    "dataset_train['transaction time']= pd.to_datetime(dataset_train['transaction time'])"
   ]
  },
  {
   "cell_type": "code",
   "execution_count": 693,
   "metadata": {
    "collapsed": true
   },
   "outputs": [],
   "source": [
    "dataset_test['transaction time']= pd.to_datetime(dataset_test['transaction time'])"
   ]
  },
  {
   "cell_type": "code",
   "execution_count": 694,
   "metadata": {},
   "outputs": [
    {
     "data": {
      "text/html": [
       "<div>\n",
       "<style scoped>\n",
       "    .dataframe tbody tr th:only-of-type {\n",
       "        vertical-align: middle;\n",
       "    }\n",
       "\n",
       "    .dataframe tbody tr th {\n",
       "        vertical-align: top;\n",
       "    }\n",
       "\n",
       "    .dataframe thead th {\n",
       "        text-align: right;\n",
       "    }\n",
       "</style>\n",
       "<table border=\"1\" class=\"dataframe\">\n",
       "  <thead>\n",
       "    <tr style=\"text-align: right;\">\n",
       "      <th></th>\n",
       "      <th>transaction time</th>\n",
       "      <th>time_in day</th>\n",
       "    </tr>\n",
       "  </thead>\n",
       "  <tbody>\n",
       "    <tr>\n",
       "      <th>0</th>\n",
       "      <td>2016-10-05 01:44:58</td>\n",
       "      <td>1</td>\n",
       "    </tr>\n",
       "    <tr>\n",
       "      <th>1</th>\n",
       "      <td>2015-01-14 15:05:07</td>\n",
       "      <td>15</td>\n",
       "    </tr>\n",
       "    <tr>\n",
       "      <th>2</th>\n",
       "      <td>2016-10-28 13:44:58</td>\n",
       "      <td>13</td>\n",
       "    </tr>\n",
       "    <tr>\n",
       "      <th>3</th>\n",
       "      <td>2016-11-20 15:05:32</td>\n",
       "      <td>15</td>\n",
       "    </tr>\n",
       "    <tr>\n",
       "      <th>4</th>\n",
       "      <td>2015-09-01 16:11:57</td>\n",
       "      <td>16</td>\n",
       "    </tr>\n",
       "  </tbody>\n",
       "</table>\n",
       "</div>"
      ],
      "text/plain": [
       "     transaction time  time_in day\n",
       "0 2016-10-05 01:44:58            1\n",
       "1 2015-01-14 15:05:07           15\n",
       "2 2016-10-28 13:44:58           13\n",
       "3 2016-11-20 15:05:32           15\n",
       "4 2015-09-01 16:11:57           16"
      ]
     },
     "execution_count": 694,
     "metadata": {},
     "output_type": "execute_result"
    }
   ],
   "source": [
    "dataset_train['time_in day'] = dataset_train['transaction time'].dt.hour\n",
    "dataset_train[['transaction time','time_in day']].head()\n",
    "\n",
    "\n",
    "#dataset_train['is_weekend'] = np.where(dataset_train['dayofweek_name'].isin(['Sunday','Saturday']),1,1)\n",
    "#dataset_train[['transaction time','is_weekend']].head()"
   ]
  },
  {
   "cell_type": "code",
   "execution_count": 695,
   "metadata": {},
   "outputs": [
    {
     "data": {
      "text/html": [
       "<div>\n",
       "<style scoped>\n",
       "    .dataframe tbody tr th:only-of-type {\n",
       "        vertical-align: middle;\n",
       "    }\n",
       "\n",
       "    .dataframe tbody tr th {\n",
       "        vertical-align: top;\n",
       "    }\n",
       "\n",
       "    .dataframe thead th {\n",
       "        text-align: right;\n",
       "    }\n",
       "</style>\n",
       "<table border=\"1\" class=\"dataframe\">\n",
       "  <thead>\n",
       "    <tr style=\"text-align: right;\">\n",
       "      <th></th>\n",
       "      <th>transaction time</th>\n",
       "      <th>time_in day</th>\n",
       "    </tr>\n",
       "  </thead>\n",
       "  <tbody>\n",
       "    <tr>\n",
       "      <th>0</th>\n",
       "      <td>2016-06-28 12:51:43</td>\n",
       "      <td>12</td>\n",
       "    </tr>\n",
       "    <tr>\n",
       "      <th>1</th>\n",
       "      <td>2015-12-16 18:04:03</td>\n",
       "      <td>18</td>\n",
       "    </tr>\n",
       "    <tr>\n",
       "      <th>2</th>\n",
       "      <td>2016-10-15 04:06:55</td>\n",
       "      <td>4</td>\n",
       "    </tr>\n",
       "    <tr>\n",
       "      <th>3</th>\n",
       "      <td>2014-03-15 04:40:45</td>\n",
       "      <td>4</td>\n",
       "    </tr>\n",
       "    <tr>\n",
       "      <th>4</th>\n",
       "      <td>2015-05-25 05:09:33</td>\n",
       "      <td>5</td>\n",
       "    </tr>\n",
       "  </tbody>\n",
       "</table>\n",
       "</div>"
      ],
      "text/plain": [
       "     transaction time  time_in day\n",
       "0 2016-06-28 12:51:43           12\n",
       "1 2015-12-16 18:04:03           18\n",
       "2 2016-10-15 04:06:55            4\n",
       "3 2014-03-15 04:40:45            4\n",
       "4 2015-05-25 05:09:33            5"
      ]
     },
     "execution_count": 695,
     "metadata": {},
     "output_type": "execute_result"
    }
   ],
   "source": [
    "dataset_test['time_in day'] = dataset_test['transaction time'].dt.hour\n",
    "dataset_test[['transaction time','time_in day']].head()"
   ]
  },
  {
   "cell_type": "code",
   "execution_count": 696,
   "metadata": {},
   "outputs": [],
   "source": [
    "dataset_train.drop('transaction time', axis = 1, inplace = True)"
   ]
  },
  {
   "cell_type": "code",
   "execution_count": 697,
   "metadata": {
    "collapsed": true
   },
   "outputs": [],
   "source": [
    "dataset_test.drop('transaction time', axis = 1, inplace = True)"
   ]
  },
  {
   "cell_type": "code",
   "execution_count": 698,
   "metadata": {
    "scrolled": false
   },
   "outputs": [
    {
     "name": "stdout",
     "output_type": "stream",
     "text": [
      "<class 'pandas.core.frame.DataFrame'>\n",
      "RangeIndex: 10493 entries, 0 to 10492\n",
      "Data columns (total 15 columns):\n",
      "id                                  10493 non-null object\n",
      "current bank amount                 10493 non-null int64\n",
      "last bank amount                    10493 non-null int64\n",
      "most recent bank amount             10493 non-null int64\n",
      "account type                        10493 non-null object\n",
      "marital_status                      10493 non-null object\n",
      "age                                 10493 non-null int64\n",
      "occupation                          10493 non-null object\n",
      "credit card type                    10493 non-null object\n",
      "account source verification         10493 non-null bool\n",
      "transaction source method           10493 non-null bool\n",
      "account destination verification    10493 non-null bool\n",
      "fradulent                           10493 non-null int64\n",
      "time taken (days)                   10493 non-null float64\n",
      "time_in day                         10493 non-null int64\n",
      "dtypes: bool(3), float64(1), int64(6), object(5)\n",
      "memory usage: 1014.6+ KB\n"
     ]
    }
   ],
   "source": [
    "dataset_train.info()"
   ]
  },
  {
   "cell_type": "code",
   "execution_count": 699,
   "metadata": {},
   "outputs": [
    {
     "name": "stdout",
     "output_type": "stream",
     "text": [
      "<class 'pandas.core.frame.DataFrame'>\n",
      "RangeIndex: 4507 entries, 0 to 4506\n",
      "Data columns (total 14 columns):\n",
      "id                                  4507 non-null object\n",
      "current bank amount                 4507 non-null int64\n",
      "last bank amount                    4507 non-null int64\n",
      "most recent bank amount             4507 non-null int64\n",
      "account type                        4507 non-null object\n",
      "marital_status                      4507 non-null object\n",
      "age                                 4507 non-null int64\n",
      "occupation                          4507 non-null object\n",
      "credit card type                    4507 non-null object\n",
      "account source verification         4507 non-null bool\n",
      "transaction source method           4507 non-null bool\n",
      "account destination verification    4507 non-null bool\n",
      "time taken (days)                   4507 non-null float64\n",
      "time_in day                         4507 non-null int64\n",
      "dtypes: bool(3), float64(1), int64(5), object(5)\n",
      "memory usage: 400.6+ KB\n"
     ]
    }
   ],
   "source": [
    "dataset_test.info()"
   ]
  },
  {
   "cell_type": "markdown",
   "metadata": {},
   "source": [
    "#  categorical features"
   ]
  },
  {
   "cell_type": "code",
   "execution_count": 700,
   "metadata": {
    "collapsed": true
   },
   "outputs": [],
   "source": [
    "dataset_train.drop('id', axis = 1, inplace = True)"
   ]
  },
  {
   "cell_type": "code",
   "execution_count": 701,
   "metadata": {
    "collapsed": true
   },
   "outputs": [],
   "source": [
    "dataset_test.drop('id', axis = 1, inplace = True)"
   ]
  },
  {
   "cell_type": "code",
   "execution_count": 702,
   "metadata": {},
   "outputs": [
    {
     "data": {
      "text/plain": [
       "current    8984\n",
       "saving     1509\n",
       "Name: account type, dtype: int64"
      ]
     },
     "execution_count": 702,
     "metadata": {},
     "output_type": "execute_result"
    }
   ],
   "source": [
    "dataset_train['account type'].value_counts()"
   ]
  },
  {
   "cell_type": "code",
   "execution_count": 703,
   "metadata": {},
   "outputs": [
    {
     "data": {
      "text/plain": [
       "current    3807\n",
       "saving      700\n",
       "Name: account type, dtype: int64"
      ]
     },
     "execution_count": 703,
     "metadata": {},
     "output_type": "execute_result"
    }
   ],
   "source": [
    "dataset_test['account type'].value_counts()"
   ]
  },
  {
   "cell_type": "code",
   "execution_count": 704,
   "metadata": {
    "collapsed": true
   },
   "outputs": [],
   "source": [
    "#using onehot encoding\n",
    "\n",
    "dataset_train=pd.get_dummies(dataset_train,columns=['account type'])"
   ]
  },
  {
   "cell_type": "code",
   "execution_count": 705,
   "metadata": {
    "collapsed": true
   },
   "outputs": [],
   "source": [
    "#using onehot encoding\n",
    "\n",
    "dataset_test=pd.get_dummies(dataset_test,columns=['account type'])"
   ]
  },
  {
   "cell_type": "code",
   "execution_count": 706,
   "metadata": {},
   "outputs": [
    {
     "data": {
      "text/plain": [
       "married    5270\n",
       "single     3122\n",
       "unknown    2101\n",
       "Name: marital_status, dtype: int64"
      ]
     },
     "execution_count": 706,
     "metadata": {},
     "output_type": "execute_result"
    }
   ],
   "source": [
    "dataset_train['marital_status'].value_counts()"
   ]
  },
  {
   "cell_type": "code",
   "execution_count": 707,
   "metadata": {},
   "outputs": [
    {
     "data": {
      "text/plain": [
       "married    2229\n",
       "single     1358\n",
       "unknown     920\n",
       "Name: marital_status, dtype: int64"
      ]
     },
     "execution_count": 707,
     "metadata": {},
     "output_type": "execute_result"
    }
   ],
   "source": [
    "dataset_test['marital_status'].value_counts()"
   ]
  },
  {
   "cell_type": "markdown",
   "metadata": {},
   "source": [
    "#encoding the marital_status using label \n",
    "\n",
    "dataset_train['marital_status'][dataset_train['marital_status']=='single']=0\n",
    "dataset_train['marital_status'][dataset_train['marital_status']=='unknown']=0\n",
    "\n",
    "dataset_train['marital_status'][dataset_train['marital_status']=='married']=1\n"
   ]
  },
  {
   "cell_type": "code",
   "execution_count": 708,
   "metadata": {
    "collapsed": true
   },
   "outputs": [],
   "source": [
    "#using onehot encoding\n",
    "\n",
    "dataset_train=pd.get_dummies(dataset_train,columns=['marital_status'])"
   ]
  },
  {
   "cell_type": "markdown",
   "metadata": {},
   "source": [
    "#encoding the marital_status using label \n",
    "\n",
    "dataset_test['marital_status'][dataset_test['marital_status']=='single']=0\n",
    "dataset_test['marital_status'][dataset_test['marital_status']=='unknown']=0\n",
    "\n",
    "dataset_test['marital_status'][dataset_test['marital_status']=='married']=1\n"
   ]
  },
  {
   "cell_type": "code",
   "execution_count": 709,
   "metadata": {},
   "outputs": [],
   "source": [
    "#using onehot encoding\n",
    "\n",
    "dataset_test=pd.get_dummies(dataset_test,columns=['marital_status'])"
   ]
  },
  {
   "cell_type": "code",
   "execution_count": 710,
   "metadata": {},
   "outputs": [
    {
     "data": {
      "text/plain": [
       "clergy        2601\n",
       "accounting    2065\n",
       "lecturer      1599\n",
       "banking       1597\n",
       "doctor        1120\n",
       "farmer         551\n",
       "lawyer         549\n",
       "musician       411\n",
       "Name: occupation, dtype: int64"
      ]
     },
     "execution_count": 710,
     "metadata": {},
     "output_type": "execute_result"
    }
   ],
   "source": [
    "dataset_train['occupation'].value_counts()"
   ]
  },
  {
   "cell_type": "code",
   "execution_count": 711,
   "metadata": {},
   "outputs": [
    {
     "data": {
      "text/plain": [
       "clergy        1149\n",
       "accounting     940\n",
       "lecturer       663\n",
       "banking        609\n",
       "doctor         465\n",
       "lawyer         251\n",
       "farmer         246\n",
       "musician       184\n",
       "Name: occupation, dtype: int64"
      ]
     },
     "execution_count": 711,
     "metadata": {},
     "output_type": "execute_result"
    }
   ],
   "source": [
    "dataset_test['occupation'].value_counts()"
   ]
  },
  {
   "cell_type": "markdown",
   "metadata": {},
   "source": [
    "#encoding the occupation using label \n",
    "\n",
    "dataset_train['occupation'][dataset_train['occupation']=='accounting']=0\n",
    "dataset_train['occupation'][dataset_train['occupation']=='banking']=0\n",
    "dataset_train['occupation'][dataset_train['occupation']=='musician']=0\n",
    "dataset_train['occupation'][dataset_train['occupation']=='lawyer']=0\n",
    "\n",
    "dataset_train['occupation'][dataset_train['occupation']=='doctor']=1\n",
    "dataset_train['occupation'][dataset_train['occupation']=='farmer']=1\n",
    "dataset_train['occupation'][dataset_train['occupation']=='clergy']=1\n",
    "dataset_train['occupation'][dataset_train['occupation']=='lecturer']=1\n",
    "\n",
    "\n"
   ]
  },
  {
   "cell_type": "markdown",
   "metadata": {},
   "source": [
    "#encoding the occupation using label \n",
    "\n",
    "dataset_test['occupation'][dataset_test['occupation']=='accounting']=0\n",
    "dataset_test['occupation'][dataset_test['occupation']=='banking']=0\n",
    "dataset_test['occupation'][dataset_test['occupation']=='musician']=0\n",
    "dataset_test['occupation'][dataset_test['occupation']=='lawyer']=0\n",
    "\n",
    "dataset_test['occupation'][dataset_test['occupation']=='doctor']=1\n",
    "dataset_test['occupation'][dataset_test['occupation']=='farmer']=1\n",
    "dataset_test['occupation'][dataset_test['occupation']=='clergy']=1\n",
    "dataset_test['occupation'][dataset_test['occupation']=='lecturer']=1\n",
    "\n"
   ]
  },
  {
   "cell_type": "code",
   "execution_count": 712,
   "metadata": {
    "collapsed": true
   },
   "outputs": [],
   "source": [
    "#using onehot encoding\n",
    "\n",
    "dataset_train=pd.get_dummies(dataset_train,columns=['occupation'])"
   ]
  },
  {
   "cell_type": "code",
   "execution_count": 713,
   "metadata": {
    "collapsed": true
   },
   "outputs": [],
   "source": [
    "#using onehot encoding\n",
    "\n",
    "dataset_test=pd.get_dummies(dataset_test,columns=['occupation'])"
   ]
  },
  {
   "cell_type": "code",
   "execution_count": null,
   "metadata": {
    "collapsed": true
   },
   "outputs": [],
   "source": []
  },
  {
   "cell_type": "markdown",
   "metadata": {},
   "source": [
    "dataset_test['credit card type'][dataset_test['credit card type']=='master']=0\n",
    "dataset_test['credit card type'][dataset_test['credit card type']=='verve']=1"
   ]
  },
  {
   "cell_type": "markdown",
   "metadata": {},
   "source": [
    "dataset_train['credit card type'][dataset_train['credit card type']=='master']=0\n",
    "dataset_train['credit card type'][dataset_train['credit card type']=='verve']=1"
   ]
  },
  {
   "cell_type": "code",
   "execution_count": 714,
   "metadata": {
    "collapsed": true
   },
   "outputs": [],
   "source": [
    "#using onehot encoding\n",
    "\n",
    "dataset_train=pd.get_dummies(dataset_train,columns=['credit card type'])"
   ]
  },
  {
   "cell_type": "code",
   "execution_count": 715,
   "metadata": {
    "collapsed": true
   },
   "outputs": [],
   "source": [
    "#using onehot encoding\n",
    "\n",
    "dataset_test=pd.get_dummies(dataset_test,columns=['credit card type'])"
   ]
  },
  {
   "cell_type": "code",
   "execution_count": null,
   "metadata": {
    "collapsed": true
   },
   "outputs": [],
   "source": []
  },
  {
   "cell_type": "code",
   "execution_count": 716,
   "metadata": {},
   "outputs": [
    {
     "data": {
      "text/plain": [
       "True     8206\n",
       "False    2287\n",
       "Name: account source verification, dtype: int64"
      ]
     },
     "execution_count": 716,
     "metadata": {},
     "output_type": "execute_result"
    }
   ],
   "source": [
    "dataset_train['account source verification'].value_counts()"
   ]
  },
  {
   "cell_type": "code",
   "execution_count": 717,
   "metadata": {
    "collapsed": true
   },
   "outputs": [],
   "source": [
    "#using onehot encoding\n",
    "\n",
    "dataset_train=pd.get_dummies(dataset_train,columns=['account source verification'])"
   ]
  },
  {
   "cell_type": "code",
   "execution_count": 718,
   "metadata": {
    "collapsed": true
   },
   "outputs": [],
   "source": [
    "#using onehot encoding\n",
    "\n",
    "dataset_test=pd.get_dummies(dataset_test,columns=['account source verification'])"
   ]
  },
  {
   "cell_type": "code",
   "execution_count": 719,
   "metadata": {},
   "outputs": [
    {
     "data": {
      "text/plain": [
       "True     5751\n",
       "False    4742\n",
       "Name: transaction source method, dtype: int64"
      ]
     },
     "execution_count": 719,
     "metadata": {},
     "output_type": "execute_result"
    }
   ],
   "source": [
    "dataset_train['transaction source method'].value_counts()"
   ]
  },
  {
   "cell_type": "code",
   "execution_count": 720,
   "metadata": {
    "collapsed": true
   },
   "outputs": [],
   "source": [
    "#using onehot encoding\n",
    "\n",
    "dataset_train=pd.get_dummies(dataset_train,columns=['transaction source method'])"
   ]
  },
  {
   "cell_type": "code",
   "execution_count": 721,
   "metadata": {
    "collapsed": true
   },
   "outputs": [],
   "source": [
    "#using onehot encoding\n",
    "\n",
    "dataset_test=pd.get_dummies(dataset_test,columns=['transaction source method'])"
   ]
  },
  {
   "cell_type": "code",
   "execution_count": 722,
   "metadata": {},
   "outputs": [
    {
     "data": {
      "text/plain": [
       "False    7710\n",
       "True     2783\n",
       "Name: account destination verification, dtype: int64"
      ]
     },
     "execution_count": 722,
     "metadata": {},
     "output_type": "execute_result"
    }
   ],
   "source": [
    "dataset_train['account destination verification'].value_counts()"
   ]
  },
  {
   "cell_type": "code",
   "execution_count": 723,
   "metadata": {
    "collapsed": true
   },
   "outputs": [],
   "source": [
    "#using onehot encoding\n",
    "\n",
    "dataset_train=pd.get_dummies(dataset_train,columns=['account destination verification'])"
   ]
  },
  {
   "cell_type": "code",
   "execution_count": 724,
   "metadata": {
    "collapsed": true
   },
   "outputs": [],
   "source": [
    "#using onehot encoding\n",
    "\n",
    "dataset_test=pd.get_dummies(dataset_test,columns=['account destination verification'])"
   ]
  },
  {
   "cell_type": "markdown",
   "metadata": {},
   "source": [
    "#  this is output label y (fradulent)"
   ]
  },
  {
   "cell_type": "code",
   "execution_count": 725,
   "metadata": {},
   "outputs": [],
   "source": [
    "y = dataset_train['fradulent']"
   ]
  },
  {
   "cell_type": "code",
   "execution_count": 726,
   "metadata": {
    "collapsed": true
   },
   "outputs": [],
   "source": [
    "dataset_train=dataset_train.drop('fradulent',axis=1)"
   ]
  },
  {
   "cell_type": "code",
   "execution_count": 727,
   "metadata": {
    "scrolled": true
   },
   "outputs": [
    {
     "name": "stdout",
     "output_type": "stream",
     "text": [
      "<class 'pandas.core.frame.DataFrame'>\n",
      "RangeIndex: 10493 entries, 0 to 10492\n",
      "Data columns (total 27 columns):\n",
      "current bank amount                       10493 non-null int64\n",
      "last bank amount                          10493 non-null int64\n",
      "most recent bank amount                   10493 non-null int64\n",
      "age                                       10493 non-null int64\n",
      "time taken (days)                         10493 non-null float64\n",
      "time_in day                               10493 non-null int64\n",
      "account type_current                      10493 non-null uint8\n",
      "account type_saving                       10493 non-null uint8\n",
      "marital_status_married                    10493 non-null uint8\n",
      "marital_status_single                     10493 non-null uint8\n",
      "marital_status_unknown                    10493 non-null uint8\n",
      "occupation_accounting                     10493 non-null uint8\n",
      "occupation_banking                        10493 non-null uint8\n",
      "occupation_clergy                         10493 non-null uint8\n",
      "occupation_doctor                         10493 non-null uint8\n",
      "occupation_farmer                         10493 non-null uint8\n",
      "occupation_lawyer                         10493 non-null uint8\n",
      "occupation_lecturer                       10493 non-null uint8\n",
      "occupation_musician                       10493 non-null uint8\n",
      "credit card type_master                   10493 non-null uint8\n",
      "credit card type_verve                    10493 non-null uint8\n",
      "account source verification_False         10493 non-null uint8\n",
      "account source verification_True          10493 non-null uint8\n",
      "transaction source method_False           10493 non-null uint8\n",
      "transaction source method_True            10493 non-null uint8\n",
      "account destination verification_False    10493 non-null uint8\n",
      "account destination verification_True     10493 non-null uint8\n",
      "dtypes: float64(1), int64(5), uint8(21)\n",
      "memory usage: 707.2 KB\n"
     ]
    }
   ],
   "source": [
    "dataset_train.info()"
   ]
  },
  {
   "cell_type": "markdown",
   "metadata": {},
   "source": [
    "dataset_train['marital_status'] = dataset_train['marital_status'].astype('int')"
   ]
  },
  {
   "cell_type": "code",
   "execution_count": 729,
   "metadata": {
    "scrolled": true
   },
   "outputs": [],
   "source": [
    "#dataset_train['credit card type'] = dataset_train['credit card type'].astype('int')"
   ]
  },
  {
   "cell_type": "code",
   "execution_count": 731,
   "metadata": {
    "scrolled": true
   },
   "outputs": [],
   "source": [
    "#dataset_train['occupation'] = dataset_train['occupation'].astype('int')"
   ]
  },
  {
   "cell_type": "code",
   "execution_count": null,
   "metadata": {
    "collapsed": true
   },
   "outputs": [],
   "source": []
  },
  {
   "cell_type": "code",
   "execution_count": null,
   "metadata": {
    "collapsed": true
   },
   "outputs": [],
   "source": []
  },
  {
   "cell_type": "markdown",
   "metadata": {},
   "source": [
    "# ML model using Logistic regression"
   ]
  },
  {
   "cell_type": "code",
   "execution_count": 732,
   "metadata": {
    "collapsed": true
   },
   "outputs": [],
   "source": [
    "from sklearn.preprocessing import StandardScaler"
   ]
  },
  {
   "cell_type": "code",
   "execution_count": 733,
   "metadata": {
    "collapsed": true
   },
   "outputs": [],
   "source": [
    "std = StandardScaler()"
   ]
  },
  {
   "cell_type": "code",
   "execution_count": 734,
   "metadata": {},
   "outputs": [],
   "source": [
    "X=std.fit_transform(dataset_train)"
   ]
  },
  {
   "cell_type": "code",
   "execution_count": 735,
   "metadata": {},
   "outputs": [
    {
     "data": {
      "text/plain": [
       "((10493, 27), (10493,))"
      ]
     },
     "execution_count": 735,
     "metadata": {},
     "output_type": "execute_result"
    }
   ],
   "source": [
    "X.shape, y.shape"
   ]
  },
  {
   "cell_type": "code",
   "execution_count": 736,
   "metadata": {
    "collapsed": true
   },
   "outputs": [],
   "source": [
    "from sklearn.model_selection import train_test_split\n",
    "\n",
    "\n",
    "x_train,x_test,y_train,y_test =train_test_split(X,y,test_size=0.2,random_state=42)"
   ]
  },
  {
   "cell_type": "code",
   "execution_count": 737,
   "metadata": {},
   "outputs": [
    {
     "data": {
      "text/plain": [
       "((8394, 27), (8394,), (2099, 27), (2099,))"
      ]
     },
     "execution_count": 737,
     "metadata": {},
     "output_type": "execute_result"
    }
   ],
   "source": [
    "x_train.shape,y_train.shape,x_test.shape,y_test.shape"
   ]
  },
  {
   "cell_type": "code",
   "execution_count": 738,
   "metadata": {},
   "outputs": [],
   "source": [
    "from sklearn.ensemble import RandomForestClassifier"
   ]
  },
  {
   "cell_type": "code",
   "execution_count": 739,
   "metadata": {
    "collapsed": true
   },
   "outputs": [],
   "source": [
    "y_train = y_train.astype('int')"
   ]
  },
  {
   "cell_type": "code",
   "execution_count": 740,
   "metadata": {},
   "outputs": [
    {
     "data": {
      "text/plain": [
       "0.9893971884679533"
      ]
     },
     "execution_count": 740,
     "metadata": {},
     "output_type": "execute_result"
    }
   ],
   "source": [
    "lr = RandomForestClassifier(\n",
    ")\n",
    "lr.fit(x_train,y_train)\n",
    "lr.score(x_train,y_train)"
   ]
  },
  {
   "cell_type": "code",
   "execution_count": 741,
   "metadata": {},
   "outputs": [],
   "source": [
    "pred = lr.predict(x_test)\n",
    "from sklearn.metrics import accuracy_score, f1_score,confusion_matrix,precision_score, classification_report,auc"
   ]
  },
  {
   "cell_type": "code",
   "execution_count": 742,
   "metadata": {
    "collapsed": true
   },
   "outputs": [],
   "source": [
    "score = accuracy_score(y_test,pred)"
   ]
  },
  {
   "cell_type": "code",
   "execution_count": 743,
   "metadata": {},
   "outputs": [
    {
     "name": "stdout",
     "output_type": "stream",
     "text": [
      "0.717008099094807\n"
     ]
    }
   ],
   "source": [
    "print(score)"
   ]
  },
  {
   "cell_type": "code",
   "execution_count": 744,
   "metadata": {
    "collapsed": true
   },
   "outputs": [],
   "source": [
    "y_test = y_test.astype('int')"
   ]
  },
  {
   "cell_type": "code",
   "execution_count": 745,
   "metadata": {},
   "outputs": [
    {
     "data": {
      "text/plain": [
       "0.35294117647058826"
      ]
     },
     "execution_count": 745,
     "metadata": {},
     "output_type": "execute_result"
    }
   ],
   "source": [
    "f1_score(y_test,pred)"
   ]
  },
  {
   "cell_type": "code",
   "execution_count": 746,
   "metadata": {},
   "outputs": [
    {
     "name": "stdout",
     "output_type": "stream",
     "text": [
      "             precision    recall  f1-score   support\n",
      "\n",
      "          0       0.76      0.88      0.82      1520\n",
      "          1       0.48      0.28      0.35       579\n",
      "\n",
      "avg / total       0.68      0.72      0.69      2099\n",
      "\n"
     ]
    }
   ],
   "source": [
    "print(classification_report(y_test,pred))"
   ]
  },
  {
   "cell_type": "code",
   "execution_count": null,
   "metadata": {
    "collapsed": true
   },
   "outputs": [],
   "source": []
  },
  {
   "cell_type": "code",
   "execution_count": null,
   "metadata": {
    "collapsed": true
   },
   "outputs": [],
   "source": []
  },
  {
   "cell_type": "code",
   "execution_count": null,
   "metadata": {
    "collapsed": true
   },
   "outputs": [],
   "source": []
  },
  {
   "cell_type": "code",
   "execution_count": null,
   "metadata": {
    "collapsed": true
   },
   "outputs": [],
   "source": []
  },
  {
   "cell_type": "code",
   "execution_count": null,
   "metadata": {
    "collapsed": true
   },
   "outputs": [],
   "source": []
  },
  {
   "cell_type": "code",
   "execution_count": 747,
   "metadata": {},
   "outputs": [],
   "source": [
    "pred = lr.predict(dataset_test)"
   ]
  },
  {
   "cell_type": "code",
   "execution_count": 748,
   "metadata": {},
   "outputs": [
    {
     "data": {
      "text/plain": [
       "array([1, 1, 1, ..., 1, 1, 0])"
      ]
     },
     "execution_count": 748,
     "metadata": {},
     "output_type": "execute_result"
    }
   ],
   "source": [
    "pred"
   ]
  },
  {
   "cell_type": "code",
   "execution_count": 749,
   "metadata": {
    "collapsed": true
   },
   "outputs": [],
   "source": [
    "dataset = pd.read_csv('test.csv')"
   ]
  },
  {
   "cell_type": "code",
   "execution_count": 750,
   "metadata": {
    "collapsed": true
   },
   "outputs": [],
   "source": [
    "dict1 = {'id' : dataset['id'], 'fradulent' : pred}"
   ]
  },
  {
   "cell_type": "code",
   "execution_count": null,
   "metadata": {
    "collapsed": true
   },
   "outputs": [],
   "source": []
  },
  {
   "cell_type": "code",
   "execution_count": 751,
   "metadata": {
    "collapsed": true
   },
   "outputs": [],
   "source": [
    "df = pd.DataFrame(dict1)"
   ]
  },
  {
   "cell_type": "code",
   "execution_count": null,
   "metadata": {},
   "outputs": [],
   "source": []
  },
  {
   "cell_type": "code",
   "execution_count": 752,
   "metadata": {},
   "outputs": [
    {
     "data": {
      "text/html": [
       "<div>\n",
       "<style scoped>\n",
       "    .dataframe tbody tr th:only-of-type {\n",
       "        vertical-align: middle;\n",
       "    }\n",
       "\n",
       "    .dataframe tbody tr th {\n",
       "        vertical-align: top;\n",
       "    }\n",
       "\n",
       "    .dataframe thead th {\n",
       "        text-align: right;\n",
       "    }\n",
       "</style>\n",
       "<table border=\"1\" class=\"dataframe\">\n",
       "  <thead>\n",
       "    <tr style=\"text-align: right;\">\n",
       "      <th></th>\n",
       "      <th>id</th>\n",
       "      <th>fradulent</th>\n",
       "    </tr>\n",
       "  </thead>\n",
       "  <tbody>\n",
       "    <tr>\n",
       "      <th>0</th>\n",
       "      <td>bcus2993</td>\n",
       "      <td>1</td>\n",
       "    </tr>\n",
       "    <tr>\n",
       "      <th>1</th>\n",
       "      <td>bcus2994</td>\n",
       "      <td>1</td>\n",
       "    </tr>\n",
       "    <tr>\n",
       "      <th>2</th>\n",
       "      <td>bcus2995</td>\n",
       "      <td>1</td>\n",
       "    </tr>\n",
       "    <tr>\n",
       "      <th>3</th>\n",
       "      <td>bcus2996</td>\n",
       "      <td>1</td>\n",
       "    </tr>\n",
       "    <tr>\n",
       "      <th>4</th>\n",
       "      <td>bcus2997</td>\n",
       "      <td>0</td>\n",
       "    </tr>\n",
       "    <tr>\n",
       "      <th>...</th>\n",
       "      <td>...</td>\n",
       "      <td>...</td>\n",
       "    </tr>\n",
       "    <tr>\n",
       "      <th>4502</th>\n",
       "      <td>bcus7495</td>\n",
       "      <td>1</td>\n",
       "    </tr>\n",
       "    <tr>\n",
       "      <th>4503</th>\n",
       "      <td>bcus7496</td>\n",
       "      <td>1</td>\n",
       "    </tr>\n",
       "    <tr>\n",
       "      <th>4504</th>\n",
       "      <td>bcus7497</td>\n",
       "      <td>1</td>\n",
       "    </tr>\n",
       "    <tr>\n",
       "      <th>4505</th>\n",
       "      <td>bcus7498</td>\n",
       "      <td>1</td>\n",
       "    </tr>\n",
       "    <tr>\n",
       "      <th>4506</th>\n",
       "      <td>bcus7499</td>\n",
       "      <td>0</td>\n",
       "    </tr>\n",
       "  </tbody>\n",
       "</table>\n",
       "<p>4507 rows × 2 columns</p>\n",
       "</div>"
      ],
      "text/plain": [
       "            id  fradulent\n",
       "0     bcus2993          1\n",
       "1     bcus2994          1\n",
       "2     bcus2995          1\n",
       "3     bcus2996          1\n",
       "4     bcus2997          0\n",
       "...        ...        ...\n",
       "4502  bcus7495          1\n",
       "4503  bcus7496          1\n",
       "4504  bcus7497          1\n",
       "4505  bcus7498          1\n",
       "4506  bcus7499          0\n",
       "\n",
       "[4507 rows x 2 columns]"
      ]
     },
     "execution_count": 752,
     "metadata": {},
     "output_type": "execute_result"
    }
   ],
   "source": [
    "df\n"
   ]
  },
  {
   "cell_type": "code",
   "execution_count": 753,
   "metadata": {
    "collapsed": true
   },
   "outputs": [],
   "source": [
    "df.to_csv('my_pred.csv',index=False)"
   ]
  },
  {
   "cell_type": "code",
   "execution_count": null,
   "metadata": {
    "collapsed": true
   },
   "outputs": [],
   "source": []
  },
  {
   "cell_type": "code",
   "execution_count": null,
   "metadata": {
    "collapsed": true
   },
   "outputs": [],
   "source": []
  },
  {
   "cell_type": "code",
   "execution_count": null,
   "metadata": {
    "collapsed": true
   },
   "outputs": [],
   "source": []
  },
  {
   "cell_type": "code",
   "execution_count": null,
   "metadata": {
    "collapsed": true
   },
   "outputs": [],
   "source": []
  }
 ],
 "metadata": {
  "kernelspec": {
   "display_name": "Python 3",
   "language": "python",
   "name": "python3"
  },
  "language_info": {
   "codemirror_mode": {
    "name": "ipython",
    "version": 3
   },
   "file_extension": ".py",
   "mimetype": "text/x-python",
   "name": "python",
   "nbconvert_exporter": "python",
   "pygments_lexer": "ipython3",
   "version": "3.6.1"
  }
 },
 "nbformat": 4,
 "nbformat_minor": 2
}
